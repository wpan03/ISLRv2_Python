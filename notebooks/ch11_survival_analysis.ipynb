{
  "cells": [
    {
      "cell_type": "markdown",
      "metadata": {
        "id": "0qkY5cYYAqzk"
      },
      "source": [
        "## Setup"
      ]
    },
    {
      "cell_type": "code",
      "execution_count": 1,
      "metadata": {
        "id": "OiY2UM_IAqzl"
      },
      "outputs": [],
      "source": [
        "# Adapted from: https://github.com/ageron/handson-ml2/blob/master/10_neural_nets_with_keras.ipynb\n",
        "\n",
        "try:\n",
        "    # %tensorflow_version only exists in Colab.\n",
        "    %tensorflow_version 2.x\n",
        "    IS_COLAB = True\n",
        "except Exception:\n",
        "    IS_COLAB = False"
      ]
    },
    {
      "cell_type": "code",
      "execution_count": 2,
      "metadata": {
        "colab": {
          "base_uri": "https://localhost:8080/"
        },
        "id": "z8ZXjCmrDn9R",
        "outputId": "030adfb5-f2ee-466e-ebf0-b0b6fd5cf8c5"
      },
      "outputs": [],
      "source": [
        "if IS_COLAB:\n",
        "    %pip install lifelines==0.27.0"
      ]
    },
    {
      "cell_type": "code",
      "execution_count": 3,
      "metadata": {
        "id": "xwxM7uF6Aqzm"
      },
      "outputs": [],
      "source": [
        "import matplotlib.pyplot as plt\n",
        "import pandas as pd\n",
        "from lifelines import KaplanMeierFitter, CoxPHFitter\n",
        "from lifelines.statistics import logrank_test"
      ]
    },
    {
      "cell_type": "markdown",
      "metadata": {
        "id": "qLHuoX9mAqzm"
      },
      "source": [
        "## 11.3 The Kaplan-Meier Survival Curve\n"
      ]
    },
    {
      "cell_type": "code",
      "execution_count": 4,
      "metadata": {
        "id": "tmSlM1FLAqzn"
      },
      "outputs": [],
      "source": [
        "df_cancer = pd.read_csv('https://raw.githubusercontent.com/wpan03/ISLRv2_Python/main/data/brain_cancer.csv')"
      ]
    },
    {
      "cell_type": "code",
      "execution_count": 5,
      "metadata": {
        "colab": {
          "base_uri": "https://localhost:8080/",
          "height": 206
        },
        "id": "aRyp5fjQAqzn",
        "outputId": "80646b6f-c3b7-4c22-da1a-7d3b68025d1e"
      },
      "outputs": [
        {
          "data": {
            "text/html": [
              "<div>\n",
              "<style scoped>\n",
              "    .dataframe tbody tr th:only-of-type {\n",
              "        vertical-align: middle;\n",
              "    }\n",
              "\n",
              "    .dataframe tbody tr th {\n",
              "        vertical-align: top;\n",
              "    }\n",
              "\n",
              "    .dataframe thead th {\n",
              "        text-align: right;\n",
              "    }\n",
              "</style>\n",
              "<table border=\"1\" class=\"dataframe\">\n",
              "  <thead>\n",
              "    <tr style=\"text-align: right;\">\n",
              "      <th></th>\n",
              "      <th>sex</th>\n",
              "      <th>diagnosis</th>\n",
              "      <th>loc</th>\n",
              "      <th>ki</th>\n",
              "      <th>gtv</th>\n",
              "      <th>stereo</th>\n",
              "      <th>status</th>\n",
              "      <th>time</th>\n",
              "    </tr>\n",
              "  </thead>\n",
              "  <tbody>\n",
              "    <tr>\n",
              "      <th>0</th>\n",
              "      <td>Female</td>\n",
              "      <td>Meningioma</td>\n",
              "      <td>Infratentorial</td>\n",
              "      <td>90</td>\n",
              "      <td>6.11</td>\n",
              "      <td>SRS</td>\n",
              "      <td>0</td>\n",
              "      <td>57.64</td>\n",
              "    </tr>\n",
              "    <tr>\n",
              "      <th>1</th>\n",
              "      <td>Male</td>\n",
              "      <td>HG glioma</td>\n",
              "      <td>Supratentorial</td>\n",
              "      <td>90</td>\n",
              "      <td>19.35</td>\n",
              "      <td>SRT</td>\n",
              "      <td>1</td>\n",
              "      <td>8.98</td>\n",
              "    </tr>\n",
              "    <tr>\n",
              "      <th>2</th>\n",
              "      <td>Female</td>\n",
              "      <td>Meningioma</td>\n",
              "      <td>Infratentorial</td>\n",
              "      <td>70</td>\n",
              "      <td>7.95</td>\n",
              "      <td>SRS</td>\n",
              "      <td>0</td>\n",
              "      <td>26.46</td>\n",
              "    </tr>\n",
              "    <tr>\n",
              "      <th>3</th>\n",
              "      <td>Female</td>\n",
              "      <td>LG glioma</td>\n",
              "      <td>Supratentorial</td>\n",
              "      <td>80</td>\n",
              "      <td>7.61</td>\n",
              "      <td>SRT</td>\n",
              "      <td>1</td>\n",
              "      <td>47.80</td>\n",
              "    </tr>\n",
              "    <tr>\n",
              "      <th>4</th>\n",
              "      <td>Male</td>\n",
              "      <td>HG glioma</td>\n",
              "      <td>Supratentorial</td>\n",
              "      <td>90</td>\n",
              "      <td>5.06</td>\n",
              "      <td>SRT</td>\n",
              "      <td>1</td>\n",
              "      <td>6.30</td>\n",
              "    </tr>\n",
              "  </tbody>\n",
              "</table>\n",
              "</div>"
            ],
            "text/plain": [
              "      sex   diagnosis             loc  ki    gtv stereo  status   time\n",
              "0  Female  Meningioma  Infratentorial  90   6.11    SRS       0  57.64\n",
              "1    Male   HG glioma  Supratentorial  90  19.35    SRT       1   8.98\n",
              "2  Female  Meningioma  Infratentorial  70   7.95    SRS       0  26.46\n",
              "3  Female   LG glioma  Supratentorial  80   7.61    SRT       1  47.80\n",
              "4    Male   HG glioma  Supratentorial  90   5.06    SRT       1   6.30"
            ]
          },
          "execution_count": 5,
          "metadata": {},
          "output_type": "execute_result"
        }
      ],
      "source": [
        "df_cancer.head() "
      ]
    },
    {
      "cell_type": "markdown",
      "metadata": {
        "id": "UyXXZH7SAqzo"
      },
      "source": [
        "Most software, including R, uses the convention that status = 1 indicates an uncensored observation, and status = 0 indicates a censored observation. "
      ]
    },
    {
      "cell_type": "code",
      "execution_count": 6,
      "metadata": {
        "colab": {
          "base_uri": "https://localhost:8080/"
        },
        "id": "ZfVPtybUAqzo",
        "outputId": "b9ff806f-5666-4086-c57c-065747a6db03"
      },
      "outputs": [
        {
          "data": {
            "text/plain": [
              "0    53\n",
              "1    35\n",
              "Name: status, dtype: int64"
            ]
          },
          "execution_count": 6,
          "metadata": {},
          "output_type": "execute_result"
        }
      ],
      "source": [
        "df_cancer.status.value_counts()"
      ]
    },
    {
      "cell_type": "code",
      "execution_count": 7,
      "metadata": {
        "colab": {
          "base_uri": "https://localhost:8080/"
        },
        "id": "hP_9nQFbAqzo",
        "outputId": "2b1753df-b30e-45a2-ecd5-f71279904344"
      },
      "outputs": [
        {
          "data": {
            "text/plain": [
              "48"
            ]
          },
          "execution_count": 7,
          "metadata": {},
          "output_type": "execute_result"
        }
      ],
      "source": [
        "num_survive_20 = df_cancer.query(\"time >= 20\").shape[0]\n",
        "num_survive_20"
      ]
    },
    {
      "cell_type": "code",
      "execution_count": 8,
      "metadata": {
        "colab": {
          "base_uri": "https://localhost:8080/"
        },
        "id": "Bj4sqegNAqzp",
        "outputId": "adc80944-7f8d-4125-eabd-4c0cb04e2488"
      },
      "outputs": [
        {
          "data": {
            "text/plain": [
              "17"
            ]
          },
          "execution_count": 8,
          "metadata": {},
          "output_type": "execute_result"
        }
      ],
      "source": [
        "censor_before_20 = df_cancer.query(\"time < 20 & status == 0\").shape[0]\n",
        "censor_before_20"
      ]
    },
    {
      "cell_type": "code",
      "execution_count": 9,
      "metadata": {
        "colab": {
          "base_uri": "https://localhost:8080/"
        },
        "id": "HK3_nuteAqzp",
        "outputId": "14158858-e772-4365-a32c-c254f857b1f7"
      },
      "outputs": [
        {
          "data": {
            "text/plain": [
              "71"
            ]
          },
          "execution_count": 9,
          "metadata": {},
          "output_type": "execute_result"
        }
      ],
      "source": [
        "num_not_censor = df_cancer.query(\"status == 1\").shape[0]\n",
        "num_survive_20 + num_not_censor - df_cancer.query(\"time >= 20 & status == 1\").shape[0]"
      ]
    },
    {
      "cell_type": "code",
      "execution_count": 10,
      "metadata": {
        "id": "rsthA6nSAqzp"
      },
      "outputs": [],
      "source": [
        "kmf = KaplanMeierFitter()"
      ]
    },
    {
      "cell_type": "code",
      "execution_count": 11,
      "metadata": {
        "colab": {
          "base_uri": "https://localhost:8080/"
        },
        "id": "pl0UbomXAqzq",
        "outputId": "62d7863f-2745-4c13-fb37-988c0721d5af"
      },
      "outputs": [
        {
          "data": {
            "text/plain": [
              "<lifelines.KaplanMeierFitter:\"KM_estimate\", fitted with 88 total observations, 53 right-censored observations>"
            ]
          },
          "execution_count": 11,
          "metadata": {},
          "output_type": "execute_result"
        }
      ],
      "source": [
        "kmf.fit(df_cancer['time'], event_observed=df_cancer['status'])"
      ]
    },
    {
      "cell_type": "code",
      "execution_count": 12,
      "metadata": {
        "colab": {
          "base_uri": "https://localhost:8080/",
          "height": 283
        },
        "id": "4CrLZOaNAqzq",
        "outputId": "10911f77-4a3e-4e2d-c146-1dc777131aa6"
      },
      "outputs": [
        {
          "data": {
            "image/png": "[encoded data removed]",
            "text/plain": [
              "<Figure size 432x288 with 1 Axes>"
            ]
          },
          "metadata": {
            "needs_background": "light"
          },
          "output_type": "display_data"
        }
      ],
      "source": [
        "kmf.plot_survival_function()\n",
        "plt.ylim([0, 1])\n",
        "plt.show()"
      ]
    },
    {
      "cell_type": "markdown",
      "metadata": {
        "id": "q4540nMIAqzq"
      },
      "source": [
        "## 11.4 Log-Rank Test"
      ]
    },
    {
      "cell_type": "code",
      "execution_count": 13,
      "metadata": {
        "colab": {
          "base_uri": "https://localhost:8080/",
          "height": 206
        },
        "id": "IPaoU_76Aqzq",
        "outputId": "01f94e8a-3e25-4301-d871-ee879b45eef9"
      },
      "outputs": [
        {
          "data": {
            "text/html": [
              "<div>\n",
              "<style scoped>\n",
              "    .dataframe tbody tr th:only-of-type {\n",
              "        vertical-align: middle;\n",
              "    }\n",
              "\n",
              "    .dataframe tbody tr th {\n",
              "        vertical-align: top;\n",
              "    }\n",
              "\n",
              "    .dataframe thead th {\n",
              "        text-align: right;\n",
              "    }\n",
              "</style>\n",
              "<table border=\"1\" class=\"dataframe\">\n",
              "  <thead>\n",
              "    <tr style=\"text-align: right;\">\n",
              "      <th></th>\n",
              "      <th>sex</th>\n",
              "      <th>diagnosis</th>\n",
              "      <th>loc</th>\n",
              "      <th>ki</th>\n",
              "      <th>gtv</th>\n",
              "      <th>stereo</th>\n",
              "      <th>status</th>\n",
              "      <th>time</th>\n",
              "    </tr>\n",
              "  </thead>\n",
              "  <tbody>\n",
              "    <tr>\n",
              "      <th>0</th>\n",
              "      <td>Female</td>\n",
              "      <td>Meningioma</td>\n",
              "      <td>Infratentorial</td>\n",
              "      <td>90</td>\n",
              "      <td>6.11</td>\n",
              "      <td>SRS</td>\n",
              "      <td>0</td>\n",
              "      <td>57.64</td>\n",
              "    </tr>\n",
              "    <tr>\n",
              "      <th>1</th>\n",
              "      <td>Male</td>\n",
              "      <td>HG glioma</td>\n",
              "      <td>Supratentorial</td>\n",
              "      <td>90</td>\n",
              "      <td>19.35</td>\n",
              "      <td>SRT</td>\n",
              "      <td>1</td>\n",
              "      <td>8.98</td>\n",
              "    </tr>\n",
              "    <tr>\n",
              "      <th>2</th>\n",
              "      <td>Female</td>\n",
              "      <td>Meningioma</td>\n",
              "      <td>Infratentorial</td>\n",
              "      <td>70</td>\n",
              "      <td>7.95</td>\n",
              "      <td>SRS</td>\n",
              "      <td>0</td>\n",
              "      <td>26.46</td>\n",
              "    </tr>\n",
              "    <tr>\n",
              "      <th>3</th>\n",
              "      <td>Female</td>\n",
              "      <td>LG glioma</td>\n",
              "      <td>Supratentorial</td>\n",
              "      <td>80</td>\n",
              "      <td>7.61</td>\n",
              "      <td>SRT</td>\n",
              "      <td>1</td>\n",
              "      <td>47.80</td>\n",
              "    </tr>\n",
              "    <tr>\n",
              "      <th>4</th>\n",
              "      <td>Male</td>\n",
              "      <td>HG glioma</td>\n",
              "      <td>Supratentorial</td>\n",
              "      <td>90</td>\n",
              "      <td>5.06</td>\n",
              "      <td>SRT</td>\n",
              "      <td>1</td>\n",
              "      <td>6.30</td>\n",
              "    </tr>\n",
              "  </tbody>\n",
              "</table>\n",
              "</div>"
            ],
            "text/plain": [
              "      sex   diagnosis             loc  ki    gtv stereo  status   time\n",
              "0  Female  Meningioma  Infratentorial  90   6.11    SRS       0  57.64\n",
              "1    Male   HG glioma  Supratentorial  90  19.35    SRT       1   8.98\n",
              "2  Female  Meningioma  Infratentorial  70   7.95    SRS       0  26.46\n",
              "3  Female   LG glioma  Supratentorial  80   7.61    SRT       1  47.80\n",
              "4    Male   HG glioma  Supratentorial  90   5.06    SRT       1   6.30"
            ]
          },
          "execution_count": 13,
          "metadata": {},
          "output_type": "execute_result"
        }
      ],
      "source": [
        "df_cancer.head()"
      ]
    },
    {
      "cell_type": "code",
      "execution_count": 14,
      "metadata": {
        "colab": {
          "base_uri": "https://localhost:8080/",
          "height": 295
        },
        "id": "Yoor2NJoAqzr",
        "outputId": "7168dff8-9e42-4017-980e-ddf72b05176d"
      },
      "outputs": [
        {
          "data": {
            "image/png": "[encoded data removed]",
            "text/plain": [
              "<Figure size 432x288 with 1 Axes>"
            ]
          },
          "metadata": {
            "needs_background": "light"
          },
          "output_type": "display_data"
        }
      ],
      "source": [
        "ax = plt.subplot(111)\n",
        "\n",
        "is_female = (df_cancer[\"sex\"] == \"Female\")\n",
        "\n",
        "kmf.fit(df_cancer[is_female]['time'],\n",
        "        event_observed=df_cancer[is_female]['status'],\n",
        "        label=\"Female\")\n",
        "kmf.plot_survival_function(ax=ax)\n",
        "\n",
        "kmf.fit(df_cancer[~is_female]['time'],\n",
        "        event_observed=df_cancer[~is_female]['status'],\n",
        "        label=\"Male\")\n",
        "kmf.plot_survival_function(ax=ax)\n",
        "\n",
        "plt.ylim([0, 1])\n",
        "plt.title(\"Lifespans of different global regimes\")\n",
        "plt.show()"
      ]
    },
    {
      "cell_type": "code",
      "execution_count": 15,
      "metadata": {
        "colab": {
          "base_uri": "https://localhost:8080/",
          "height": 237
        },
        "id": "5wNE3Hr4Aqzr",
        "outputId": "47469d1e-0d11-448a-cd2c-5ba9dff517e7"
      },
      "outputs": [
        {
          "data": {
            "text/html": [
              "<div>\n",
              "<style scoped>\n",
              "    .dataframe tbody tr th:only-of-type {\n",
              "        vertical-align: middle;\n",
              "    }\n",
              "\n",
              "    .dataframe tbody tr th {\n",
              "        vertical-align: top;\n",
              "    }\n",
              "\n",
              "    .dataframe thead th {\n",
              "        text-align: right;\n",
              "    }\n",
              "</style>\n",
              "<table border=\"1\" class=\"dataframe\">\n",
              "  <tbody>\n",
              "    <tr>\n",
              "      <th>t_0</th>\n",
              "      <td>-1</td>\n",
              "    </tr>\n",
              "    <tr>\n",
              "      <th>null_distribution</th>\n",
              "      <td>chi squared</td>\n",
              "    </tr>\n",
              "    <tr>\n",
              "      <th>degrees_of_freedom</th>\n",
              "      <td>1</td>\n",
              "    </tr>\n",
              "    <tr>\n",
              "      <th>alpha</th>\n",
              "      <td>0.95</td>\n",
              "    </tr>\n",
              "    <tr>\n",
              "      <th>test_name</th>\n",
              "      <td>logrank_test</td>\n",
              "    </tr>\n",
              "  </tbody>\n",
              "</table>\n",
              "</div><table border=\"1\" class=\"dataframe\">\n",
              "  <thead>\n",
              "    <tr style=\"text-align: right;\">\n",
              "      <th></th>\n",
              "      <th>test_statistic</th>\n",
              "      <th>p</th>\n",
              "      <th>-log2(p)</th>\n",
              "    </tr>\n",
              "  </thead>\n",
              "  <tbody>\n",
              "    <tr>\n",
              "      <th>0</th>\n",
              "      <td>1.44</td>\n",
              "      <td>0.23</td>\n",
              "      <td>2.12</td>\n",
              "    </tr>\n",
              "  </tbody>\n",
              "</table>"
            ],
            "text/latex": [
              "\\begin{tabular}{lrrr}\n",
              "\\toprule\n",
              "{} &  test\\_statistic &         p &  -log2(p) \\\\\n",
              "\\midrule\n",
              "0 &        1.440495 &  0.230059 &  2.119923 \\\\\n",
              "\\bottomrule\n",
              "\\end{tabular}\n"
            ],
            "text/plain": [
              "<lifelines.StatisticalResult: logrank_test>\n",
              "               t_0 = -1\n",
              " null_distribution = chi squared\n",
              "degrees_of_freedom = 1\n",
              "             alpha = 0.95\n",
              "         test_name = logrank_test\n",
              "\n",
              "---\n",
              " test_statistic    p  -log2(p)\n",
              "           1.44 0.23      2.12"
            ]
          },
          "metadata": {},
          "output_type": "display_data"
        }
      ],
      "source": [
        "results = logrank_test(df_cancer[is_female]['time'],\n",
        "                       df_cancer[~is_female]['time'],\n",
        "                       df_cancer[is_female]['status'],\n",
        "                       df_cancer[~is_female]['status'],\n",
        "                       alpha=.95)\n",
        "\n",
        "results.print_summary()\n"
      ]
    },
    {
      "cell_type": "markdown",
      "metadata": {
        "id": "MKEedkIbAqzs"
      },
      "source": [
        "## 11.5 Regression Models With a Survival Response\n",
        "\n",
        "### 11.5.3 Brain Cancer Data"
      ]
    },
    {
      "cell_type": "code",
      "execution_count": 16,
      "metadata": {
        "id": "mcTz7SGNAqzs"
      },
      "outputs": [],
      "source": [
        "df_cancer_with_dummy = pd.get_dummies(df_cancer.dropna())"
      ]
    },
    {
      "cell_type": "code",
      "execution_count": 17,
      "metadata": {
        "colab": {
          "base_uri": "https://localhost:8080/",
          "height": 205
        },
        "id": "Qwtwhw02Aqzs",
        "outputId": "e83eadcf-bf77-4d27-a320-3537842c65df"
      },
      "outputs": [
        {
          "data": {
            "text/html": [
              "<div>\n",
              "<style scoped>\n",
              "    .dataframe tbody tr th:only-of-type {\n",
              "        vertical-align: middle;\n",
              "    }\n",
              "\n",
              "    .dataframe tbody tr th {\n",
              "        vertical-align: top;\n",
              "    }\n",
              "\n",
              "    .dataframe thead th {\n",
              "        text-align: right;\n",
              "    }\n",
              "</style>\n",
              "<table border=\"1\" class=\"dataframe\">\n",
              "  <thead>\n",
              "    <tr style=\"text-align: right;\">\n",
              "      <th></th>\n",
              "      <th>ki</th>\n",
              "      <th>gtv</th>\n",
              "      <th>status</th>\n",
              "      <th>time</th>\n",
              "      <th>sex_Female</th>\n",
              "      <th>sex_Male</th>\n",
              "      <th>diagnosis_HG glioma</th>\n",
              "      <th>diagnosis_LG glioma</th>\n",
              "      <th>diagnosis_Meningioma</th>\n",
              "      <th>diagnosis_Other</th>\n",
              "      <th>loc_Infratentorial</th>\n",
              "      <th>loc_Supratentorial</th>\n",
              "      <th>stereo_SRS</th>\n",
              "      <th>stereo_SRT</th>\n",
              "    </tr>\n",
              "  </thead>\n",
              "  <tbody>\n",
              "    <tr>\n",
              "      <th>0</th>\n",
              "      <td>90</td>\n",
              "      <td>6.11</td>\n",
              "      <td>0</td>\n",
              "      <td>57.64</td>\n",
              "      <td>1</td>\n",
              "      <td>0</td>\n",
              "      <td>0</td>\n",
              "      <td>0</td>\n",
              "      <td>1</td>\n",
              "      <td>0</td>\n",
              "      <td>1</td>\n",
              "      <td>0</td>\n",
              "      <td>1</td>\n",
              "      <td>0</td>\n",
              "    </tr>\n",
              "    <tr>\n",
              "      <th>1</th>\n",
              "      <td>90</td>\n",
              "      <td>19.35</td>\n",
              "      <td>1</td>\n",
              "      <td>8.98</td>\n",
              "      <td>0</td>\n",
              "      <td>1</td>\n",
              "      <td>1</td>\n",
              "      <td>0</td>\n",
              "      <td>0</td>\n",
              "      <td>0</td>\n",
              "      <td>0</td>\n",
              "      <td>1</td>\n",
              "      <td>0</td>\n",
              "      <td>1</td>\n",
              "    </tr>\n",
              "    <tr>\n",
              "      <th>2</th>\n",
              "      <td>70</td>\n",
              "      <td>7.95</td>\n",
              "      <td>0</td>\n",
              "      <td>26.46</td>\n",
              "      <td>1</td>\n",
              "      <td>0</td>\n",
              "      <td>0</td>\n",
              "      <td>0</td>\n",
              "      <td>1</td>\n",
              "      <td>0</td>\n",
              "      <td>1</td>\n",
              "      <td>0</td>\n",
              "      <td>1</td>\n",
              "      <td>0</td>\n",
              "    </tr>\n",
              "  </tbody>\n",
              "</table>\n",
              "</div>"
            ],
            "text/plain": [
              "   ki    gtv  status   time  sex_Female  sex_Male  diagnosis_HG glioma  \\\n",
              "0  90   6.11       0  57.64           1         0                    0   \n",
              "1  90  19.35       1   8.98           0         1                    1   \n",
              "2  70   7.95       0  26.46           1         0                    0   \n",
              "\n",
              "   diagnosis_LG glioma  diagnosis_Meningioma  diagnosis_Other  \\\n",
              "0                    0                     1                0   \n",
              "1                    0                     0                0   \n",
              "2                    0                     1                0   \n",
              "\n",
              "   loc_Infratentorial  loc_Supratentorial  stereo_SRS  stereo_SRT  \n",
              "0                   1                   0           1           0  \n",
              "1                   0                   1           0           1  \n",
              "2                   1                   0           1           0  "
            ]
          },
          "execution_count": 17,
          "metadata": {},
          "output_type": "execute_result"
        }
      ],
      "source": [
        "df_cancer_with_dummy.head(3)"
      ]
    },
    {
      "cell_type": "code",
      "execution_count": 18,
      "metadata": {
        "colab": {
          "base_uri": "https://localhost:8080/"
        },
        "id": "SaoWLeC1Cv75",
        "outputId": "c9d3fb55-4661-49f6-bd73-967256e37357"
      },
      "outputs": [
        {
          "data": {
            "text/plain": [
              "Index(['ki', 'gtv', 'status', 'time', 'sex_Female', 'sex_Male',\n",
              "       'diagnosis_HG glioma', 'diagnosis_LG glioma', 'diagnosis_Meningioma',\n",
              "       'diagnosis_Other', 'loc_Infratentorial', 'loc_Supratentorial',\n",
              "       'stereo_SRS', 'stereo_SRT'],\n",
              "      dtype='object')"
            ]
          },
          "execution_count": 18,
          "metadata": {},
          "output_type": "execute_result"
        }
      ],
      "source": [
        "df_cancer_with_dummy.columns"
      ]
    },
    {
      "cell_type": "code",
      "execution_count": 19,
      "metadata": {
        "colab": {
          "base_uri": "https://localhost:8080/"
        },
        "id": "1aX3flg8Aqzs",
        "outputId": "683a682d-a3b9-4830-e22f-b0813cceac48"
      },
      "outputs": [
        {
          "data": {
            "text/plain": [
              "<lifelines.CoxPHFitter: fitted with 87 total observations, 52 right-censored observations>"
            ]
          },
          "execution_count": 19,
          "metadata": {},
          "output_type": "execute_result"
        }
      ],
      "source": [
        "cph = CoxPHFitter()\n",
        "cph.fit(\n",
        "    df_cancer_with_dummy,\n",
        "    duration_col='time',\n",
        "    event_col='status',\n",
        "    formula=\n",
        "    'ki + gtv + sex_Male + `diagnosis_HG glioma` + `diagnosis_LG glioma` + diagnosis_Other + loc_Supratentorial + stereo_SRT'\n",
        ")\n"
      ]
    },
    {
      "cell_type": "code",
      "execution_count": 20,
      "metadata": {
        "colab": {
          "base_uri": "https://localhost:8080/",
          "height": 331
        },
        "id": "w5GkwlO3Aqzt",
        "outputId": "4a5af272-454f-40e3-b36b-7df0637119fe"
      },
      "outputs": [
        {
          "data": {
            "text/html": [
              "<div>\n",
              "<style scoped>\n",
              "    .dataframe tbody tr th:only-of-type {\n",
              "        vertical-align: middle;\n",
              "    }\n",
              "\n",
              "    .dataframe tbody tr th {\n",
              "        vertical-align: top;\n",
              "    }\n",
              "\n",
              "    .dataframe thead th {\n",
              "        text-align: right;\n",
              "    }\n",
              "</style>\n",
              "<table border=\"1\" class=\"dataframe\">\n",
              "  <thead>\n",
              "    <tr style=\"text-align: right;\">\n",
              "      <th></th>\n",
              "      <th>coef</th>\n",
              "      <th>exp(coef)</th>\n",
              "      <th>se(coef)</th>\n",
              "      <th>coef lower 95%</th>\n",
              "      <th>coef upper 95%</th>\n",
              "      <th>exp(coef) lower 95%</th>\n",
              "      <th>exp(coef) upper 95%</th>\n",
              "      <th>cmp to</th>\n",
              "      <th>z</th>\n",
              "      <th>p</th>\n",
              "      <th>-log2(p)</th>\n",
              "    </tr>\n",
              "    <tr>\n",
              "      <th>covariate</th>\n",
              "      <th></th>\n",
              "      <th></th>\n",
              "      <th></th>\n",
              "      <th></th>\n",
              "      <th></th>\n",
              "      <th></th>\n",
              "      <th></th>\n",
              "      <th></th>\n",
              "      <th></th>\n",
              "      <th></th>\n",
              "      <th></th>\n",
              "    </tr>\n",
              "  </thead>\n",
              "  <tbody>\n",
              "    <tr>\n",
              "      <th>diagnosis_HG glioma</th>\n",
              "      <td>2.154566</td>\n",
              "      <td>8.624142</td>\n",
              "      <td>0.450524</td>\n",
              "      <td>1.271555</td>\n",
              "      <td>3.037576</td>\n",
              "      <td>3.566393</td>\n",
              "      <td>20.854639</td>\n",
              "      <td>0.0</td>\n",
              "      <td>4.782354</td>\n",
              "      <td>0.000002</td>\n",
              "      <td>19.138680</td>\n",
              "    </tr>\n",
              "    <tr>\n",
              "      <th>diagnosis_LG glioma</th>\n",
              "      <td>0.915024</td>\n",
              "      <td>2.496836</td>\n",
              "      <td>0.638157</td>\n",
              "      <td>-0.335740</td>\n",
              "      <td>2.165788</td>\n",
              "      <td>0.714809</td>\n",
              "      <td>8.721475</td>\n",
              "      <td>0.0</td>\n",
              "      <td>1.433855</td>\n",
              "      <td>0.151614</td>\n",
              "      <td>2.721528</td>\n",
              "    </tr>\n",
              "    <tr>\n",
              "      <th>diagnosis_Other</th>\n",
              "      <td>0.885695</td>\n",
              "      <td>2.424669</td>\n",
              "      <td>0.657873</td>\n",
              "      <td>-0.403713</td>\n",
              "      <td>2.175103</td>\n",
              "      <td>0.667836</td>\n",
              "      <td>8.803089</td>\n",
              "      <td>0.0</td>\n",
              "      <td>1.346301</td>\n",
              "      <td>0.178206</td>\n",
              "      <td>2.488386</td>\n",
              "    </tr>\n",
              "    <tr>\n",
              "      <th>gtv</th>\n",
              "      <td>0.034293</td>\n",
              "      <td>1.034887</td>\n",
              "      <td>0.022333</td>\n",
              "      <td>-0.009480</td>\n",
              "      <td>0.078065</td>\n",
              "      <td>0.990565</td>\n",
              "      <td>1.081192</td>\n",
              "      <td>0.0</td>\n",
              "      <td>1.535503</td>\n",
              "      <td>0.124660</td>\n",
              "      <td>3.003925</td>\n",
              "    </tr>\n",
              "    <tr>\n",
              "      <th>ki</th>\n",
              "      <td>-0.054955</td>\n",
              "      <td>0.946527</td>\n",
              "      <td>0.018314</td>\n",
              "      <td>-0.090849</td>\n",
              "      <td>-0.019061</td>\n",
              "      <td>0.913155</td>\n",
              "      <td>0.981119</td>\n",
              "      <td>0.0</td>\n",
              "      <td>-3.000770</td>\n",
              "      <td>0.002693</td>\n",
              "      <td>8.536580</td>\n",
              "    </tr>\n",
              "    <tr>\n",
              "      <th>loc_Supratentorial</th>\n",
              "      <td>0.441195</td>\n",
              "      <td>1.554563</td>\n",
              "      <td>0.703669</td>\n",
              "      <td>-0.937971</td>\n",
              "      <td>1.820360</td>\n",
              "      <td>0.391421</td>\n",
              "      <td>6.174080</td>\n",
              "      <td>0.0</td>\n",
              "      <td>0.626992</td>\n",
              "      <td>0.530664</td>\n",
              "      <td>0.914128</td>\n",
              "    </tr>\n",
              "    <tr>\n",
              "      <th>sex_Male</th>\n",
              "      <td>0.183748</td>\n",
              "      <td>1.201712</td>\n",
              "      <td>0.360358</td>\n",
              "      <td>-0.522541</td>\n",
              "      <td>0.890036</td>\n",
              "      <td>0.593012</td>\n",
              "      <td>2.435217</td>\n",
              "      <td>0.0</td>\n",
              "      <td>0.509903</td>\n",
              "      <td>0.610119</td>\n",
              "      <td>0.712837</td>\n",
              "    </tr>\n",
              "    <tr>\n",
              "      <th>stereo_SRT</th>\n",
              "      <td>0.177778</td>\n",
              "      <td>1.194560</td>\n",
              "      <td>0.601578</td>\n",
              "      <td>-1.001293</td>\n",
              "      <td>1.356848</td>\n",
              "      <td>0.367404</td>\n",
              "      <td>3.883932</td>\n",
              "      <td>0.0</td>\n",
              "      <td>0.295519</td>\n",
              "      <td>0.767597</td>\n",
              "      <td>0.381579</td>\n",
              "    </tr>\n",
              "  </tbody>\n",
              "</table>\n",
              "</div>"
            ],
            "text/plain": [
              "                         coef  exp(coef)  se(coef)  coef lower 95%  \\\n",
              "covariate                                                            \n",
              "diagnosis_HG glioma  2.154566   8.624142  0.450524        1.271555   \n",
              "diagnosis_LG glioma  0.915024   2.496836  0.638157       -0.335740   \n",
              "diagnosis_Other      0.885695   2.424669  0.657873       -0.403713   \n",
              "gtv                  0.034293   1.034887  0.022333       -0.009480   \n",
              "ki                  -0.054955   0.946527  0.018314       -0.090849   \n",
              "loc_Supratentorial   0.441195   1.554563  0.703669       -0.937971   \n",
              "sex_Male             0.183748   1.201712  0.360358       -0.522541   \n",
              "stereo_SRT           0.177778   1.194560  0.601578       -1.001293   \n",
              "\n",
              "                     coef upper 95%  exp(coef) lower 95%  exp(coef) upper 95%  \\\n",
              "covariate                                                                       \n",
              "diagnosis_HG glioma        3.037576             3.566393            20.854639   \n",
              "diagnosis_LG glioma        2.165788             0.714809             8.721475   \n",
              "diagnosis_Other            2.175103             0.667836             8.803089   \n",
              "gtv                        0.078065             0.990565             1.081192   \n",
              "ki                        -0.019061             0.913155             0.981119   \n",
              "loc_Supratentorial         1.820360             0.391421             6.174080   \n",
              "sex_Male                   0.890036             0.593012             2.435217   \n",
              "stereo_SRT                 1.356848             0.367404             3.883932   \n",
              "\n",
              "                     cmp to         z         p   -log2(p)  \n",
              "covariate                                                   \n",
              "diagnosis_HG glioma     0.0  4.782354  0.000002  19.138680  \n",
              "diagnosis_LG glioma     0.0  1.433855  0.151614   2.721528  \n",
              "diagnosis_Other         0.0  1.346301  0.178206   2.488386  \n",
              "gtv                     0.0  1.535503  0.124660   3.003925  \n",
              "ki                      0.0 -3.000770  0.002693   8.536580  \n",
              "loc_Supratentorial      0.0  0.626992  0.530664   0.914128  \n",
              "sex_Male                0.0  0.509903  0.610119   0.712837  \n",
              "stereo_SRT              0.0  0.295519  0.767597   0.381579  "
            ]
          },
          "execution_count": 20,
          "metadata": {},
          "output_type": "execute_result"
        }
      ],
      "source": [
        "cph.summary"
      ]
    },
    {
      "cell_type": "code",
      "execution_count": null,
      "metadata": {
        "id": "TypMt0bhBdV9"
      },
      "outputs": [],
      "source": []
    }
  ],
  "metadata": {
    "colab": {
      "name": "ch11_survival_analysis.ipynb",
      "provenance": []
    },
    "interpreter": {
      "hash": "83d826428b3b52c38e9f64658f017547eb7a96ee8a821063c34abee98ef62c01"
    },
    "kernelspec": {
      "display_name": "Python 3.8.8 64-bit ('ISLRv2_Python-eXIytsb_': venv)",
      "name": "python3"
    },
    "language_info": {
      "codemirror_mode": {
        "name": "ipython",
        "version": 3
      },
      "file_extension": ".py",
      "mimetype": "text/x-python",
      "name": "python",
      "nbconvert_exporter": "python",
      "pygments_lexer": "ipython3",
      "version": "3.8.2"
    },
    "orig_nbformat": 4
  },
  "nbformat": 4,
  "nbformat_minor": 0
}
