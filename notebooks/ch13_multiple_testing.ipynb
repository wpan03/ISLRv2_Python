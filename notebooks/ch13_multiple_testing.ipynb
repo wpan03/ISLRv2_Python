{
 "cells": [
  {
   "cell_type": "markdown",
   "source": [
    "## 13.6.1"
   ],
   "metadata": {}
  },
  {
   "cell_type": "code",
   "execution_count": 1,
   "source": [
    "import numpy as np\n",
    "import pandas as pd\n",
    "import matplotlib.pyplot as plt\n",
    "from scipy import stats\n",
    "from statsmodels.stats.multitest import multipletests"
   ],
   "outputs": [],
   "metadata": {}
  },
  {
   "cell_type": "code",
   "execution_count": 2,
   "source": [
    "np.random.seed(12)"
   ],
   "outputs": [],
   "metadata": {}
  },
  {
   "cell_type": "code",
   "execution_count": 3,
   "source": [
    "x = np.random.normal(loc=0, scale=1, size=(10, 100))\n",
    "x[:, 1:50] = x[:, 1:50] + 0.5"
   ],
   "outputs": [],
   "metadata": {}
  },
  {
   "cell_type": "code",
   "execution_count": 4,
   "source": [
    "stats.ttest_1samp(x[:, 0], popmean=0)"
   ],
   "outputs": [
    {
     "output_type": "execute_result",
     "data": {
      "text/plain": [
       "Ttest_1sampResult(statistic=-1.1808272665876596, pvalue=0.2679357933386311)"
      ]
     },
     "metadata": {},
     "execution_count": 4
    }
   ],
   "metadata": {}
  },
  {
   "cell_type": "code",
   "execution_count": 5,
   "source": [
    "def get_p_value(arr):\n",
    "    return stats.ttest_1samp(arr, popmean=0).pvalue"
   ],
   "outputs": [],
   "metadata": {}
  },
  {
   "cell_type": "code",
   "execution_count": 6,
   "source": [
    "def get_summary_result(p_value_l, alpha=0.05):\n",
    "    df_summary = pd.DataFrame({\n",
    "        'p_value': p_value_l,\n",
    "        'truth': ['H0 is False'] * 50 + ['H0 is True'] * 50\n",
    "    })\n",
    "    df_summary['decision'] = np.where(df_summary.p_value < 0.05, 'Reject H0', 'Do not Reject H0')\n",
    "    return df_summary[['truth', 'decision']].value_counts().unstack().T\n"
   ],
   "outputs": [],
   "metadata": {}
  },
  {
   "cell_type": "code",
   "execution_count": 7,
   "source": [
    "p_value_l = np.array([get_p_value(x[:, i]) for i in range(100)])\n",
    "get_summary_result(p_value_l)"
   ],
   "outputs": [
    {
     "output_type": "execute_result",
     "data": {
      "text/html": [
       "<div>\n",
       "<style scoped>\n",
       "    .dataframe tbody tr th:only-of-type {\n",
       "        vertical-align: middle;\n",
       "    }\n",
       "\n",
       "    .dataframe tbody tr th {\n",
       "        vertical-align: top;\n",
       "    }\n",
       "\n",
       "    .dataframe thead th {\n",
       "        text-align: right;\n",
       "    }\n",
       "</style>\n",
       "<table border=\"1\" class=\"dataframe\">\n",
       "  <thead>\n",
       "    <tr style=\"text-align: right;\">\n",
       "      <th>truth</th>\n",
       "      <th>H0 is False</th>\n",
       "      <th>H0 is True</th>\n",
       "    </tr>\n",
       "    <tr>\n",
       "      <th>decision</th>\n",
       "      <th></th>\n",
       "      <th></th>\n",
       "    </tr>\n",
       "  </thead>\n",
       "  <tbody>\n",
       "    <tr>\n",
       "      <th>Do not Reject H0</th>\n",
       "      <td>36</td>\n",
       "      <td>48</td>\n",
       "    </tr>\n",
       "    <tr>\n",
       "      <th>Reject H0</th>\n",
       "      <td>14</td>\n",
       "      <td>2</td>\n",
       "    </tr>\n",
       "  </tbody>\n",
       "</table>\n",
       "</div>"
      ],
      "text/plain": [
       "truth             H0 is False  H0 is True\n",
       "decision                                 \n",
       "Do not Reject H0           36          48\n",
       "Reject H0                  14           2"
      ]
     },
     "metadata": {},
     "execution_count": 7
    }
   ],
   "metadata": {}
  },
  {
   "cell_type": "code",
   "execution_count": 8,
   "source": [
    "x1 = np.random.normal(loc=0, scale=1, size=(10, 100))\n",
    "x1[:, 1:50] = x1[:, 1:50] + 1\n",
    "p_value_l = np.array([get_p_value(x1[:, i]) for i in range(100)])\n",
    "get_summary_result(p_value_l)"
   ],
   "outputs": [
    {
     "output_type": "execute_result",
     "data": {
      "text/html": [
       "<div>\n",
       "<style scoped>\n",
       "    .dataframe tbody tr th:only-of-type {\n",
       "        vertical-align: middle;\n",
       "    }\n",
       "\n",
       "    .dataframe tbody tr th {\n",
       "        vertical-align: top;\n",
       "    }\n",
       "\n",
       "    .dataframe thead th {\n",
       "        text-align: right;\n",
       "    }\n",
       "</style>\n",
       "<table border=\"1\" class=\"dataframe\">\n",
       "  <thead>\n",
       "    <tr style=\"text-align: right;\">\n",
       "      <th>truth</th>\n",
       "      <th>H0 is False</th>\n",
       "      <th>H0 is True</th>\n",
       "    </tr>\n",
       "    <tr>\n",
       "      <th>decision</th>\n",
       "      <th></th>\n",
       "      <th></th>\n",
       "    </tr>\n",
       "  </thead>\n",
       "  <tbody>\n",
       "    <tr>\n",
       "      <th>Do not Reject H0</th>\n",
       "      <td>10</td>\n",
       "      <td>48</td>\n",
       "    </tr>\n",
       "    <tr>\n",
       "      <th>Reject H0</th>\n",
       "      <td>40</td>\n",
       "      <td>2</td>\n",
       "    </tr>\n",
       "  </tbody>\n",
       "</table>\n",
       "</div>"
      ],
      "text/plain": [
       "truth             H0 is False  H0 is True\n",
       "decision                                 \n",
       "Do not Reject H0           10          48\n",
       "Reject H0                  40           2"
      ]
     },
     "metadata": {},
     "execution_count": 8
    }
   ],
   "metadata": {}
  },
  {
   "cell_type": "markdown",
   "source": [
    "## 13.6.2 The Family-Wise Error Rate"
   ],
   "metadata": {}
  },
  {
   "cell_type": "code",
   "execution_count": 9,
   "source": [
    "m = np.arange(1, 501, step=1)\n",
    "len(m)"
   ],
   "outputs": [
    {
     "output_type": "execute_result",
     "data": {
      "text/plain": [
       "500"
      ]
     },
     "metadata": {},
     "execution_count": 9
    }
   ],
   "metadata": {}
  },
  {
   "cell_type": "code",
   "execution_count": 10,
   "source": [
    "fwe1 = 1 - (1 - 0.05) ** m\n",
    "fwe2 = 1 - (1 - 0.01) ** m\n",
    "fwe3 = 1 - (1 - 0.001) ** m"
   ],
   "outputs": [],
   "metadata": {}
  },
  {
   "cell_type": "code",
   "execution_count": 11,
   "source": [
    "for error_arr, alpha in zip([fwe1, fwe2, fwe3], ['0.05', '0.01', '0.001']):\n",
    "    plt.plot(error_arr, label=f'a = {alpha}')\n",
    "plt.hlines(y=0.05,\n",
    "           xmin=0,\n",
    "           xmax=500,\n",
    "           linestyles='--',\n",
    "           color='gray',\n",
    "           label='0.05')\n",
    "plt.legend()\n",
    "plt.xlabel('Number of Hypotheses')\n",
    "plt.ylabel('Family - Wise Error Rate')\n",
    "plt.show()"
   ],
   "outputs": [
    {
     "output_type": "display_data",
     "data": {
      "image/png": "[encoded data removed]",
      "text/plain": [
       "<Figure size 432x288 with 1 Axes>"
      ]
     },
     "metadata": {
      "needs_background": "light"
     }
    }
   ],
   "metadata": {}
  },
  {
   "cell_type": "code",
   "execution_count": 12,
   "source": [
    "df_fund = pd.read_csv('../data/fund.csv')\n",
    "df_fund_mini = df_fund.iloc[:, 0:5]"
   ],
   "outputs": [],
   "metadata": {}
  },
  {
   "cell_type": "code",
   "execution_count": 13,
   "source": [
    "stats.ttest_1samp(df_fund_mini.iloc[:, 0].values, popmean=0)"
   ],
   "outputs": [
    {
     "output_type": "execute_result",
     "data": {
      "text/plain": [
       "Ttest_1sampResult(statistic=2.8603877677367766, pvalue=0.00620235548553822)"
      ]
     },
     "metadata": {},
     "execution_count": 13
    }
   ],
   "metadata": {}
  },
  {
   "cell_type": "code",
   "execution_count": 14,
   "source": [
    "p_value_l = []\n",
    "for i in range(5):\n",
    "    test_result = stats.ttest_1samp(df_fund_mini.iloc[:, i].values, popmean=0)\n",
    "    p_value_l.append(test_result.pvalue)"
   ],
   "outputs": [],
   "metadata": {}
  },
  {
   "cell_type": "code",
   "execution_count": 15,
   "source": [
    "p_value_l"
   ],
   "outputs": [
    {
     "output_type": "execute_result",
     "data": {
      "text/plain": [
       "[0.00620235548553822,\n",
       " 0.918271151651412,\n",
       " 0.011600982682500436,\n",
       " 0.6005396008061638,\n",
       " 0.7557815084668175]"
      ]
     },
     "metadata": {},
     "execution_count": 15
    }
   ],
   "metadata": {}
  },
  {
   "cell_type": "code",
   "execution_count": 16,
   "source": [
    "_, p_vals_corrected_bon, _, _ = multipletests(p_value_l, method='bonferroni')\n",
    "p_vals_corrected_bon"
   ],
   "outputs": [
    {
     "output_type": "execute_result",
     "data": {
      "text/plain": [
       "array([0.03101178, 1.        , 0.05800491, 1.        , 1.        ])"
      ]
     },
     "metadata": {},
     "execution_count": 16
    }
   ],
   "metadata": {}
  },
  {
   "cell_type": "code",
   "execution_count": 17,
   "source": [
    "_, p_vals_corrected_holm, _, _ = multipletests(p_value_l, method='holm')\n",
    "p_vals_corrected_holm"
   ],
   "outputs": [
    {
     "output_type": "execute_result",
     "data": {
      "text/plain": [
       "array([0.03101178, 1.        , 0.04640393, 1.        , 1.        ])"
      ]
     },
     "metadata": {},
     "execution_count": 17
    }
   ],
   "metadata": {}
  },
  {
   "cell_type": "code",
   "execution_count": null,
   "source": [],
   "outputs": [],
   "metadata": {}
  }
 ],
 "metadata": {
  "orig_nbformat": 4,
  "language_info": {
   "name": "python",
   "version": "3.8.2",
   "mimetype": "text/x-python",
   "codemirror_mode": {
    "name": "ipython",
    "version": 3
   },
   "pygments_lexer": "ipython3",
   "nbconvert_exporter": "python",
   "file_extension": ".py"
  },
  "kernelspec": {
   "name": "python3",
   "display_name": "Python 3.8.2 64-bit ('ISLRv2_Python-TrIjjefk': pipenv)"
  },
  "interpreter": {
   "hash": "fa3f492333fe33614ccd3e138e0f3b889775d222300d2ac8e726ceefb3b2749b"
  }
 },
 "nbformat": 4,
 "nbformat_minor": 2
}