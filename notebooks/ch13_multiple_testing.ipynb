{
 "cells": [
  {
   "cell_type": "markdown",
   "source": [
    "Most of contents in this notebook is adapted from section 13.6 in ISLR v2, except the R code is translated into Python code."
   ],
   "metadata": {}
  },
  {
   "cell_type": "markdown",
   "source": [
    "## Setup"
   ],
   "metadata": {}
  },
  {
   "cell_type": "code",
   "execution_count": 1,
   "source": [
    "import numpy as np\n",
    "import pandas as pd\n",
    "import matplotlib.pyplot as plt\n",
    "from scipy import stats\n",
    "from statsmodels.stats.multitest import multipletests\n",
    "from statsmodels.stats.multicomp import pairwise_tukeyhsd"
   ],
   "outputs": [],
   "metadata": {}
  },
  {
   "cell_type": "markdown",
   "source": [
    "## 13.6.1"
   ],
   "metadata": {}
  },
  {
   "cell_type": "code",
   "execution_count": 2,
   "source": [
    "np.random.seed(12)"
   ],
   "outputs": [],
   "metadata": {}
  },
  {
   "cell_type": "code",
   "execution_count": 3,
   "source": [
    "x = np.random.normal(loc=0, scale=1, size=(10, 100))\n",
    "x[:, 1:50] = x[:, 1:50] + 0.5"
   ],
   "outputs": [],
   "metadata": {}
  },
  {
   "cell_type": "code",
   "execution_count": 4,
   "source": [
    "stats.ttest_1samp(x[:, 0], popmean=0)"
   ],
   "outputs": [
    {
     "output_type": "execute_result",
     "data": {
      "text/plain": [
       "Ttest_1sampResult(statistic=-1.1808272665876596, pvalue=0.2679357933386311)"
      ]
     },
     "metadata": {},
     "execution_count": 4
    }
   ],
   "metadata": {}
  },
  {
   "cell_type": "code",
   "execution_count": 5,
   "source": [
    "def get_p_value(arr):\n",
    "    return stats.ttest_1samp(arr, popmean=0).pvalue"
   ],
   "outputs": [],
   "metadata": {}
  },
  {
   "cell_type": "code",
   "execution_count": 6,
   "source": [
    "def get_summary_result(p_value_l, alpha=0.05):\n",
    "    df_summary = pd.DataFrame({\n",
    "        'p_value': p_value_l,\n",
    "        'truth': ['H0 is False'] * 50 + ['H0 is True'] * 50\n",
    "    })\n",
    "    df_summary['decision'] = np.where(df_summary.p_value < 0.05, 'Reject H0', 'Do not Reject H0')\n",
    "    return df_summary[['truth', 'decision']].value_counts().unstack().T\n"
   ],
   "outputs": [],
   "metadata": {}
  },
  {
   "cell_type": "code",
   "execution_count": 7,
   "source": [
    "p_value_l = np.array([get_p_value(x[:, i]) for i in range(100)])\n",
    "get_summary_result(p_value_l)"
   ],
   "outputs": [
    {
     "output_type": "execute_result",
     "data": {
      "text/html": [
       "<div>\n",
       "<style scoped>\n",
       "    .dataframe tbody tr th:only-of-type {\n",
       "        vertical-align: middle;\n",
       "    }\n",
       "\n",
       "    .dataframe tbody tr th {\n",
       "        vertical-align: top;\n",
       "    }\n",
       "\n",
       "    .dataframe thead th {\n",
       "        text-align: right;\n",
       "    }\n",
       "</style>\n",
       "<table border=\"1\" class=\"dataframe\">\n",
       "  <thead>\n",
       "    <tr style=\"text-align: right;\">\n",
       "      <th>truth</th>\n",
       "      <th>H0 is False</th>\n",
       "      <th>H0 is True</th>\n",
       "    </tr>\n",
       "    <tr>\n",
       "      <th>decision</th>\n",
       "      <th></th>\n",
       "      <th></th>\n",
       "    </tr>\n",
       "  </thead>\n",
       "  <tbody>\n",
       "    <tr>\n",
       "      <th>Do not Reject H0</th>\n",
       "      <td>36</td>\n",
       "      <td>48</td>\n",
       "    </tr>\n",
       "    <tr>\n",
       "      <th>Reject H0</th>\n",
       "      <td>14</td>\n",
       "      <td>2</td>\n",
       "    </tr>\n",
       "  </tbody>\n",
       "</table>\n",
       "</div>"
      ],
      "text/plain": [
       "truth             H0 is False  H0 is True\n",
       "decision                                 \n",
       "Do not Reject H0           36          48\n",
       "Reject H0                  14           2"
      ]
     },
     "metadata": {},
     "execution_count": 7
    }
   ],
   "metadata": {}
  },
  {
   "cell_type": "code",
   "execution_count": 8,
   "source": [
    "x1 = np.random.normal(loc=0, scale=1, size=(10, 100))\n",
    "x1[:, 1:50] = x1[:, 1:50] + 1\n",
    "p_value_l = np.array([get_p_value(x1[:, i]) for i in range(100)])\n",
    "get_summary_result(p_value_l)"
   ],
   "outputs": [
    {
     "output_type": "execute_result",
     "data": {
      "text/html": [
       "<div>\n",
       "<style scoped>\n",
       "    .dataframe tbody tr th:only-of-type {\n",
       "        vertical-align: middle;\n",
       "    }\n",
       "\n",
       "    .dataframe tbody tr th {\n",
       "        vertical-align: top;\n",
       "    }\n",
       "\n",
       "    .dataframe thead th {\n",
       "        text-align: right;\n",
       "    }\n",
       "</style>\n",
       "<table border=\"1\" class=\"dataframe\">\n",
       "  <thead>\n",
       "    <tr style=\"text-align: right;\">\n",
       "      <th>truth</th>\n",
       "      <th>H0 is False</th>\n",
       "      <th>H0 is True</th>\n",
       "    </tr>\n",
       "    <tr>\n",
       "      <th>decision</th>\n",
       "      <th></th>\n",
       "      <th></th>\n",
       "    </tr>\n",
       "  </thead>\n",
       "  <tbody>\n",
       "    <tr>\n",
       "      <th>Do not Reject H0</th>\n",
       "      <td>10</td>\n",
       "      <td>48</td>\n",
       "    </tr>\n",
       "    <tr>\n",
       "      <th>Reject H0</th>\n",
       "      <td>40</td>\n",
       "      <td>2</td>\n",
       "    </tr>\n",
       "  </tbody>\n",
       "</table>\n",
       "</div>"
      ],
      "text/plain": [
       "truth             H0 is False  H0 is True\n",
       "decision                                 \n",
       "Do not Reject H0           10          48\n",
       "Reject H0                  40           2"
      ]
     },
     "metadata": {},
     "execution_count": 8
    }
   ],
   "metadata": {}
  },
  {
   "cell_type": "markdown",
   "source": [
    "## 13.6.2 The Family-Wise Error Rate"
   ],
   "metadata": {}
  },
  {
   "cell_type": "code",
   "execution_count": 9,
   "source": [
    "m = np.arange(1, 501, step=1)\n",
    "len(m)"
   ],
   "outputs": [
    {
     "output_type": "execute_result",
     "data": {
      "text/plain": [
       "500"
      ]
     },
     "metadata": {},
     "execution_count": 9
    }
   ],
   "metadata": {}
  },
  {
   "cell_type": "code",
   "execution_count": 10,
   "source": [
    "fwe1 = 1 - (1 - 0.05) ** m\n",
    "fwe2 = 1 - (1 - 0.01) ** m\n",
    "fwe3 = 1 - (1 - 0.001) ** m"
   ],
   "outputs": [],
   "metadata": {}
  },
  {
   "cell_type": "code",
   "execution_count": 11,
   "source": [
    "for error_arr, alpha in zip([fwe1, fwe2, fwe3], ['0.05', '0.01', '0.001']):\n",
    "    plt.plot(error_arr, label=f'a = {alpha}')\n",
    "plt.hlines(y=0.05,\n",
    "           xmin=0,\n",
    "           xmax=500,\n",
    "           linestyles='--',\n",
    "           color='gray',\n",
    "           label='0.05')\n",
    "plt.legend()\n",
    "plt.xlabel('Number of Hypotheses')\n",
    "plt.ylabel('Family - Wise Error Rate')\n",
    "plt.show()"
   ],
   "outputs": [
    {
     "output_type": "display_data",
     "data": {
      "image/png": "[encoded data removed]",
      "text/plain": [
       "<Figure size 432x288 with 1 Axes>"
      ]
     },
     "metadata": {
      "needs_background": "light"
     }
    }
   ],
   "metadata": {}
  },
  {
   "cell_type": "code",
   "execution_count": 12,
   "source": [
    "df_fund = pd.read_csv('../data/fund.csv')\n",
    "df_fund_mini = df_fund.iloc[:, 0:5]"
   ],
   "outputs": [],
   "metadata": {}
  },
  {
   "cell_type": "code",
   "execution_count": 13,
   "source": [
    "stats.ttest_1samp(df_fund_mini.iloc[:, 0].values, popmean=0)"
   ],
   "outputs": [
    {
     "output_type": "execute_result",
     "data": {
      "text/plain": [
       "Ttest_1sampResult(statistic=2.8603877677367766, pvalue=0.00620235548553822)"
      ]
     },
     "metadata": {},
     "execution_count": 13
    }
   ],
   "metadata": {}
  },
  {
   "cell_type": "code",
   "execution_count": 14,
   "source": [
    "p_value_l = []\n",
    "for i in range(5):\n",
    "    test_result = stats.ttest_1samp(df_fund_mini.iloc[:, i].values, popmean=0)\n",
    "    p_value_l.append(test_result.pvalue)"
   ],
   "outputs": [],
   "metadata": {}
  },
  {
   "cell_type": "code",
   "execution_count": 15,
   "source": [
    "p_value_l"
   ],
   "outputs": [
    {
     "output_type": "execute_result",
     "data": {
      "text/plain": [
       "[0.00620235548553822,\n",
       " 0.918271151651412,\n",
       " 0.011600982682500436,\n",
       " 0.6005396008061638,\n",
       " 0.7557815084668175]"
      ]
     },
     "metadata": {},
     "execution_count": 15
    }
   ],
   "metadata": {}
  },
  {
   "cell_type": "code",
   "execution_count": 16,
   "source": [
    "_, p_vals_corrected_bon, _, _ = multipletests(p_value_l, method='bonferroni')\n",
    "p_vals_corrected_bon"
   ],
   "outputs": [
    {
     "output_type": "execute_result",
     "data": {
      "text/plain": [
       "array([0.03101178, 1.        , 0.05800491, 1.        , 1.        ])"
      ]
     },
     "metadata": {},
     "execution_count": 16
    }
   ],
   "metadata": {}
  },
  {
   "cell_type": "code",
   "execution_count": 17,
   "source": [
    "_, p_vals_corrected_holm, _, _ = multipletests(p_value_l, method='holm')\n",
    "p_vals_corrected_holm"
   ],
   "outputs": [
    {
     "output_type": "execute_result",
     "data": {
      "text/plain": [
       "array([0.03101178, 1.        , 0.04640393, 1.        , 1.        ])"
      ]
     },
     "metadata": {},
     "execution_count": 17
    }
   ],
   "metadata": {}
  },
  {
   "cell_type": "code",
   "execution_count": 18,
   "source": [
    "df_fund_mini.mean(axis=0)"
   ],
   "outputs": [
    {
     "output_type": "execute_result",
     "data": {
      "text/plain": [
       "Manager1    3.0\n",
       "Manager2   -0.1\n",
       "Manager3    2.8\n",
       "Manager4    0.5\n",
       "Manager5    0.3\n",
       "dtype: float64"
      ]
     },
     "metadata": {},
     "execution_count": 18
    }
   ],
   "metadata": {}
  },
  {
   "cell_type": "markdown",
   "source": [
    "Note that for paired t-test, we use the [scipy.stats.ttest_rel](https://docs.scipy.org/doc/scipy/reference/generated/scipy.stats.ttest_rel.html) function."
   ],
   "metadata": {}
  },
  {
   "cell_type": "code",
   "execution_count": 19,
   "source": [
    "stats.ttest_rel(df_fund_mini.iloc[:, 0].values, df_fund_mini.iloc[:, 1].values)"
   ],
   "outputs": [
    {
     "output_type": "execute_result",
     "data": {
      "text/plain": [
       "Ttest_relResult(statistic=2.128014948148984, pvalue=0.038391072368079454)"
      ]
     },
     "metadata": {},
     "execution_count": 19
    }
   ],
   "metadata": {}
  },
  {
   "cell_type": "code",
   "execution_count": 20,
   "source": [
    "df_fund_mini_long = df_fund_mini.melt()"
   ],
   "outputs": [],
   "metadata": {}
  },
  {
   "cell_type": "code",
   "execution_count": 21,
   "source": [
    "df_fund_mini_long.head(3)"
   ],
   "outputs": [
    {
     "output_type": "execute_result",
     "data": {
      "text/html": [
       "<div>\n",
       "<style scoped>\n",
       "    .dataframe tbody tr th:only-of-type {\n",
       "        vertical-align: middle;\n",
       "    }\n",
       "\n",
       "    .dataframe tbody tr th {\n",
       "        vertical-align: top;\n",
       "    }\n",
       "\n",
       "    .dataframe thead th {\n",
       "        text-align: right;\n",
       "    }\n",
       "</style>\n",
       "<table border=\"1\" class=\"dataframe\">\n",
       "  <thead>\n",
       "    <tr style=\"text-align: right;\">\n",
       "      <th></th>\n",
       "      <th>variable</th>\n",
       "      <th>value</th>\n",
       "    </tr>\n",
       "  </thead>\n",
       "  <tbody>\n",
       "    <tr>\n",
       "      <th>0</th>\n",
       "      <td>Manager1</td>\n",
       "      <td>-3.341992</td>\n",
       "    </tr>\n",
       "    <tr>\n",
       "      <th>1</th>\n",
       "      <td>Manager1</td>\n",
       "      <td>3.759627</td>\n",
       "    </tr>\n",
       "    <tr>\n",
       "      <th>2</th>\n",
       "      <td>Manager1</td>\n",
       "      <td>12.970091</td>\n",
       "    </tr>\n",
       "  </tbody>\n",
       "</table>\n",
       "</div>"
      ],
      "text/plain": [
       "   variable      value\n",
       "0  Manager1  -3.341992\n",
       "1  Manager1   3.759627\n",
       "2  Manager1  12.970091"
      ]
     },
     "metadata": {},
     "execution_count": 21
    }
   ],
   "metadata": {}
  },
  {
   "cell_type": "code",
   "execution_count": 22,
   "source": [
    "m_comp_th = pairwise_tukeyhsd(endog=df_fund_mini_long['value'], groups=df_fund_mini_long['variable'])"
   ],
   "outputs": [],
   "metadata": {}
  },
  {
   "cell_type": "code",
   "execution_count": 23,
   "source": [
    "df_fund_mini.columns"
   ],
   "outputs": [
    {
     "output_type": "execute_result",
     "data": {
      "text/plain": [
       "Index(['Manager1', 'Manager2', 'Manager3', 'Manager4', 'Manager5'], dtype='object')"
      ]
     },
     "metadata": {},
     "execution_count": 23
    }
   ],
   "metadata": {}
  },
  {
   "cell_type": "code",
   "execution_count": 24,
   "source": [
    "# Inspired by: https://stackoverflow.com/questions/51734180/converting-statsmodels-summary-object-to-pandas-dataframe\n",
    "df_summary = pd.read_html(m_comp_th.summary().as_html())[0]"
   ],
   "outputs": [],
   "metadata": {}
  },
  {
   "cell_type": "code",
   "execution_count": 25,
   "source": [
    "df_summary"
   ],
   "outputs": [
    {
     "output_type": "execute_result",
     "data": {
      "text/html": [
       "<div>\n",
       "<style scoped>\n",
       "    .dataframe tbody tr th:only-of-type {\n",
       "        vertical-align: middle;\n",
       "    }\n",
       "\n",
       "    .dataframe tbody tr th {\n",
       "        vertical-align: top;\n",
       "    }\n",
       "\n",
       "    .dataframe thead th {\n",
       "        text-align: right;\n",
       "    }\n",
       "</style>\n",
       "<table border=\"1\" class=\"dataframe\">\n",
       "  <thead>\n",
       "    <tr style=\"text-align: right;\">\n",
       "      <th></th>\n",
       "      <th>group1</th>\n",
       "      <th>group2</th>\n",
       "      <th>meandiff</th>\n",
       "      <th>p-adj</th>\n",
       "      <th>lower</th>\n",
       "      <th>upper</th>\n",
       "      <th>reject</th>\n",
       "    </tr>\n",
       "  </thead>\n",
       "  <tbody>\n",
       "    <tr>\n",
       "      <th>0</th>\n",
       "      <td>Manager1</td>\n",
       "      <td>Manager2</td>\n",
       "      <td>-3.1</td>\n",
       "      <td>0.1861</td>\n",
       "      <td>-6.9866</td>\n",
       "      <td>0.7866</td>\n",
       "      <td>False</td>\n",
       "    </tr>\n",
       "    <tr>\n",
       "      <th>1</th>\n",
       "      <td>Manager1</td>\n",
       "      <td>Manager3</td>\n",
       "      <td>-0.2</td>\n",
       "      <td>0.9000</td>\n",
       "      <td>-4.0866</td>\n",
       "      <td>3.6866</td>\n",
       "      <td>False</td>\n",
       "    </tr>\n",
       "    <tr>\n",
       "      <th>2</th>\n",
       "      <td>Manager1</td>\n",
       "      <td>Manager4</td>\n",
       "      <td>-2.5</td>\n",
       "      <td>0.3962</td>\n",
       "      <td>-6.3866</td>\n",
       "      <td>1.3866</td>\n",
       "      <td>False</td>\n",
       "    </tr>\n",
       "    <tr>\n",
       "      <th>3</th>\n",
       "      <td>Manager1</td>\n",
       "      <td>Manager5</td>\n",
       "      <td>-2.7</td>\n",
       "      <td>0.3152</td>\n",
       "      <td>-6.5866</td>\n",
       "      <td>1.1866</td>\n",
       "      <td>False</td>\n",
       "    </tr>\n",
       "    <tr>\n",
       "      <th>4</th>\n",
       "      <td>Manager2</td>\n",
       "      <td>Manager3</td>\n",
       "      <td>2.9</td>\n",
       "      <td>0.2452</td>\n",
       "      <td>-0.9866</td>\n",
       "      <td>6.7866</td>\n",
       "      <td>False</td>\n",
       "    </tr>\n",
       "    <tr>\n",
       "      <th>5</th>\n",
       "      <td>Manager2</td>\n",
       "      <td>Manager4</td>\n",
       "      <td>0.6</td>\n",
       "      <td>0.9000</td>\n",
       "      <td>-3.2866</td>\n",
       "      <td>4.4866</td>\n",
       "      <td>False</td>\n",
       "    </tr>\n",
       "    <tr>\n",
       "      <th>6</th>\n",
       "      <td>Manager2</td>\n",
       "      <td>Manager5</td>\n",
       "      <td>0.4</td>\n",
       "      <td>0.9000</td>\n",
       "      <td>-3.4866</td>\n",
       "      <td>4.2866</td>\n",
       "      <td>False</td>\n",
       "    </tr>\n",
       "    <tr>\n",
       "      <th>7</th>\n",
       "      <td>Manager3</td>\n",
       "      <td>Manager4</td>\n",
       "      <td>-2.3</td>\n",
       "      <td>0.4825</td>\n",
       "      <td>-6.1866</td>\n",
       "      <td>1.5866</td>\n",
       "      <td>False</td>\n",
       "    </tr>\n",
       "    <tr>\n",
       "      <th>8</th>\n",
       "      <td>Manager3</td>\n",
       "      <td>Manager5</td>\n",
       "      <td>-2.5</td>\n",
       "      <td>0.3962</td>\n",
       "      <td>-6.3866</td>\n",
       "      <td>1.3866</td>\n",
       "      <td>False</td>\n",
       "    </tr>\n",
       "    <tr>\n",
       "      <th>9</th>\n",
       "      <td>Manager4</td>\n",
       "      <td>Manager5</td>\n",
       "      <td>-0.2</td>\n",
       "      <td>0.9000</td>\n",
       "      <td>-4.0866</td>\n",
       "      <td>3.6866</td>\n",
       "      <td>False</td>\n",
       "    </tr>\n",
       "  </tbody>\n",
       "</table>\n",
       "</div>"
      ],
      "text/plain": [
       "     group1    group2  meandiff   p-adj   lower   upper  reject\n",
       "0  Manager1  Manager2      -3.1  0.1861 -6.9866  0.7866   False\n",
       "1  Manager1  Manager3      -0.2  0.9000 -4.0866  3.6866   False\n",
       "2  Manager1  Manager4      -2.5  0.3962 -6.3866  1.3866   False\n",
       "3  Manager1  Manager5      -2.7  0.3152 -6.5866  1.1866   False\n",
       "4  Manager2  Manager3       2.9  0.2452 -0.9866  6.7866   False\n",
       "5  Manager2  Manager4       0.6  0.9000 -3.2866  4.4866   False\n",
       "6  Manager2  Manager5       0.4  0.9000 -3.4866  4.2866   False\n",
       "7  Manager3  Manager4      -2.3  0.4825 -6.1866  1.5866   False\n",
       "8  Manager3  Manager5      -2.5  0.3962 -6.3866  1.3866   False\n",
       "9  Manager4  Manager5      -0.2  0.9000 -4.0866  3.6866   False"
      ]
     },
     "metadata": {},
     "execution_count": 25
    }
   ],
   "metadata": {}
  },
  {
   "cell_type": "code",
   "execution_count": 26,
   "source": [
    "# Inspired by: https://stackoverflow.com/questions/59747313/how-to-plot-confidence-interval-in-python\n",
    "for lower, upper, y in zip(df_summary['lower'].values,\n",
    "                           df_summary['upper'].values, range(len(df_summary))):\n",
    "    plt.plot((lower, upper), (y, y), 'ro-', color='royalblue', linewidth=2)\n",
    "plt.yticks(range(len(df_summary)),\n",
    "           list(df_summary['group1'] + '-' + df_summary['group2']))\n",
    "plt.axvline(x=0, linestyle='--', color='orange')\n",
    "plt.show()\n"
   ],
   "outputs": [
    {
     "output_type": "display_data",
     "data": {
      "image/png": "[encoded data removed]",
      "text/plain": [
       "<Figure size 432x288 with 1 Axes>"
      ]
     },
     "metadata": {
      "needs_background": "light"
     }
    }
   ],
   "metadata": {}
  },
  {
   "cell_type": "code",
   "execution_count": null,
   "source": [],
   "outputs": [],
   "metadata": {}
  }
 ],
 "metadata": {
  "orig_nbformat": 4,
  "language_info": {
   "name": "python",
   "version": "3.8.2",
   "mimetype": "text/x-python",
   "codemirror_mode": {
    "name": "ipython",
    "version": 3
   },
   "pygments_lexer": "ipython3",
   "nbconvert_exporter": "python",
   "file_extension": ".py"
  },
  "kernelspec": {
   "name": "python3",
   "display_name": "Python 3.8.2 64-bit ('ISLRv2_Python-TrIjjefk': pipenv)"
  },
  "interpreter": {
   "hash": "fa3f492333fe33614ccd3e138e0f3b889775d222300d2ac8e726ceefb3b2749b"
  }
 },
 "nbformat": 4,
 "nbformat_minor": 2
}